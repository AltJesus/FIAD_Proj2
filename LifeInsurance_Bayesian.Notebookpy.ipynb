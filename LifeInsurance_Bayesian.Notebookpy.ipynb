{
 "cells": [
  {
   "cell_type": "code",
   "execution_count": 1,
   "id": "db5802e7",
   "metadata": {},
   "outputs": [],
   "source": [
    "import pandas as pd\n",
    "import matplotlib.pyplot as plt\n",
    "from matplotlib.colors import LogNorm\n",
    "from sklearn import mixture\n",
    "import numpy as np\n",
    "from scipy.stats import norm\n",
    "from collections import defaultdict\n",
    "from math import log, pi, exp, sqrt\n",
    "from scipy.stats import kstest, norm\n",
    "\n"
   ]
  },
  {
   "cell_type": "code",
   "execution_count": 2,
   "id": "c8fb07dd",
   "metadata": {},
   "outputs": [],
   "source": [
    "\n",
    "data = pd.read_csv('lifeInsurance.txt', header = None, sep= '\\s+')\n",
    "data.columns = ['GENDER', 'AGE', 'Marital Status', 'Nmr of children', 'Life Style', 'Chronic Diseases', 'Salary (monthly)', 'Decision']  \n",
    "\n"
   ]
  },
  {
   "cell_type": "code",
   "execution_count": 3,
   "id": "d4461b8a",
   "metadata": {},
   "outputs": [
    {
     "name": "stdout",
     "output_type": "stream",
     "text": [
      "   GENDER    AGE  Marital Status  Nmr of children  Life Style  \\\n",
      "0     0.0   80.0             1.0              1.0         1.0   \n",
      "1     0.0  101.0             1.0              3.0         1.0   \n",
      "2     0.0   34.0             1.0              3.0         1.0   \n",
      "3     0.0   34.0             0.0              1.0         1.0   \n",
      "4     0.0   93.0             1.0              2.0         1.0   \n",
      "\n",
      "   Chronic Diseases  Salary (monthly)  Decision  \n",
      "0               0.0         2611.4159       0.0  \n",
      "1               1.0         3132.2018       1.0  \n",
      "2               1.0         2462.3115       1.0  \n",
      "3               1.0         3051.9166       0.0  \n",
      "4               1.0         2401.4440       1.0  \n"
     ]
    }
   ],
   "source": [
    "print(data.head())\n",
    "\n",
    "# plt.show()\n"
   ]
  },
  {
   "cell_type": "code",
   "execution_count": 4,
   "id": "58e5fd59",
   "metadata": {},
   "outputs": [],
   "source": [
    "weigths = {\n",
    "    'AGE': {\n",
    "        '< 30': 5,\n",
    "        '30-40': 10,\n",
    "        '40-50': 15,\n",
    "        '> 50': 20,\n",
    "    },\n",
    "    'Chronic Diseases': {\n",
    "        '0': 5,\n",
    "        '1': 10,\n",
    "        '2': 15\n",
    "    },\n",
    "    'Salary (monthly)' : {\n",
    "        '> 3500': 5,\n",
    "        '1700-3500': 10,\n",
    "        '< 1700': 15\n",
    "    }, \n",
    "    'Nmr of children': {\n",
    "        '0': 5,\n",
    "        '1': 10,\n",
    "        '> 1': 15\n",
    "    }\n",
    "\n",
    "}"
   ]
  },
  {
   "cell_type": "code",
   "execution_count": 5,
   "id": "2bcf349c",
   "metadata": {},
   "outputs": [],
   "source": [
    "def calculate_score(row):\n",
    "\n",
    "    score = 0   \n",
    "\n",
    "\n",
    "    if row['AGE'] < 30:\n",
    "        score += weigths['AGE']['< 30']\n",
    "    elif 30 <= row['AGE'] < 40:\n",
    "        score += weigths['AGE']['30-40']\n",
    "    elif 40 <= row['AGE'] < 50:\n",
    "        score += weigths['AGE']['40-50']\n",
    "    else:\n",
    "        score += weigths['AGE']['> 50']\n",
    "\n",
    "\n",
    "    if row['Chronic Diseases'] == 0:\n",
    "        score += weigths['Chronic Diseases']['0']\n",
    "    elif row['Chronic Diseases'] == 1:\n",
    "        score += weigths['Chronic Diseases']['1']\n",
    "    else:\n",
    "        score += weigths['Chronic Diseases']['2']\n",
    "\n",
    "\n",
    "    if row['Salary (monthly)'] <= 1700:\n",
    "        score += weigths['Salary (monthly)']['< 1700']\n",
    "    elif 1700 < row['Salary (monthly)'] <= 3500:\n",
    "        score += weigths['Salary (monthly)']['1700-3500']\n",
    "    else:\n",
    "        score += weigths['Salary (monthly)']['> 3500']\n",
    "\n",
    "\n",
    "    if row['Nmr of children'] == 0:\n",
    "        score += weigths['Nmr of children']['0']\n",
    "    elif row['Nmr of children'] == 1:\n",
    "        score += weigths['Nmr of children']['1']\n",
    "    else:\n",
    "        score += weigths['Nmr of children']['> 1']\n",
    "    \n",
    "    return score\n"
   ]
  },
  {
   "cell_type": "code",
   "execution_count": 6,
   "id": "b73707a9",
   "metadata": {},
   "outputs": [],
   "source": [
    "def bayesian_insurance_decision(dataset):\n",
    "    # Criar uma cópia do dataset para não modificar o original\n",
    "    df = dataset.copy()\n",
    "    \n",
    "    # Calcular a pontuação para cada pessoa\n",
    "    df['Score'] = df.apply(calculate_score, axis=1)\n",
    "    \n",
    "    # Determinar a decisão com base na pontuação\n",
    "    df['Predicted Decision'] = df['Score'].apply(lambda x: 'Yes' if x > 50 else 'No')\n",
    "    \n",
    "    return df"
   ]
  },
  {
   "cell_type": "code",
   "execution_count": 7,
   "id": "8c0945ec",
   "metadata": {},
   "outputs": [],
   "source": [
    "result = bayesian_insurance_decision(data)\n",
    "# print(result)"
   ]
  },
  {
   "cell_type": "code",
   "execution_count": 8,
   "id": "ca2da917",
   "metadata": {},
   "outputs": [
    {
     "name": "stdout",
     "output_type": "stream",
     "text": [
      "How many correct predictions: 456\n",
      "Size: 600\n",
      "Accuracy: 76.00%\n"
     ]
    }
   ],
   "source": [
    "result['Decision'] = result['Decision'].replace({0.0: 'No', 1.0: 'Yes'})\n",
    "\n",
    "accuracy_companhia = 0\n",
    "\n",
    "for _, row in result.iterrows():  # Usar iterrows() para iterar sobre as linhas do DataFrame\n",
    "    if row['Predicted Decision'] == row['Decision']:\n",
    "        accuracy_companhia += 1\n",
    "\n",
    "print(f\"How many correct predictions: {accuracy_companhia}\")\n",
    "size = len(result)\n",
    "print(f\"Size: {size}\")\n",
    "print(f\"Accuracy: {accuracy_companhia / len(result) * 100:.2f}%\")"
   ]
  },
  {
   "cell_type": "code",
   "execution_count": 9,
   "id": "6f974699",
   "metadata": {},
   "outputs": [
    {
     "data": {
      "image/png": "[encoded data removed]",
      "text/plain": [
       "<Figure size 1400x600 with 2 Axes>"
      ]
     },
     "metadata": {},
     "output_type": "display_data"
    }
   ],
   "source": [
    "plt.figure(figsize=(14, 6))\n",
    "\n",
    "# --- Gráfico 1: Distribuição de AGE ---\n",
    "plt.subplot(1, 2, 1)  # 1 linha, 2 colunas, posição 1\n",
    "plt.hist(data[\"AGE\"], bins=20, density=True, alpha=0.6, color='green', label='Dados Observados')\n",
    "xmin, xmax = plt.xlim()\n",
    "x_age = np.linspace(xmin, xmax, 100)\n",
    "# plt.plot(x_age, norm.pdf(x_age, media_age, desvio_padrao_age), 'k-', linewidth=2,\n",
    "        #  label=f'Normal (μ={media_age:.1f}, σ={desvio_padrao_age:.1f})')\n",
    "plt.title('Distribuição de AGE')\n",
    "plt.xlabel('Idade')\n",
    "plt.ylabel('Densidade')\n",
    "plt.legend()\n",
    "plt.grid(True)\n",
    "\n",
    "# --- Gráfico 2: Distribuição de Salary (monthly) ---\n",
    "plt.subplot(1, 2, 2)  # 1 linha, 2 colunas, posição 2\n",
    "plt.hist(data['Salary (monthly)'], bins=20, density=True, alpha=0.6, color='blue', label='Dados Observados')\n",
    "xmin, xmax = plt.xlim()\n",
    "x_salary = np.linspace(xmin, xmax, 100)\n",
    "# plt.plot(x_salary, norm.pdf(x_salary, media_salary, desvio_padrao_salary), 'k-', linewidth=2,\n",
    "        #  label=f'Normal (μ={media_salary:.1f}, σ={desvio_padrao_salary:.1f})')\n",
    "plt.title('Distribuição de Salary (monthly)')\n",
    "plt.xlabel('Salário Mensal')\n",
    "plt.ylabel('Densidade')\n",
    "plt.legend()\n",
    "plt.grid(True)\n",
    "\n",
    "# Ajuste de layout e exibição\n",
    "plt.tight_layout()\n",
    "# plt.savefig('distribuicoes.png')\n",
    "plt.show()\n"
   ]
  },
  {
   "cell_type": "code",
   "execution_count": 18,
   "id": "f19c860e",
   "metadata": {},
   "outputs": [
    {
     "name": "stdout",
     "output_type": "stream",
     "text": [
      " Age KS = 0.1040, p-value = 0.0000\n",
      " Salary  KS = 0.0560, p-value = 0.0448\n"
     ]
    }
   ],
   "source": [
    "# o que queres ver começa realmente aqui\n",
    "\n",
    "############# TESTE DE KOLMOGOROV-SMIRNOV (KS) #############\n",
    "\n",
    "media_age = data['AGE'].mean()  \n",
    "desvio_padrao_age = data['AGE'].std(ddof=0)  # ddof=0 para população, ddof=1 para amostra\n",
    "\n",
    "media_salary = data['Salary (monthly)'].mean()\n",
    "desvio_padrao_salary = data['Salary (monthly)'].std(ddof=0)\n",
    "\n",
    "\n",
    "# Teste KS para AGE\n",
    "ks_stat_age, p_valor_age = kstest(\n",
    "    data['AGE'], \n",
    "    'norm', \n",
    "    args=(media_age, desvio_padrao_age)  # args: (mean, std)\n",
    ")\n",
    "\n",
    "# Teste KS para Salary\n",
    "ks_stat_salary, p_valor_salary = kstest(\n",
    "    data['Salary (monthly)'], \n",
    "    'norm', \n",
    "    args=(media_salary, desvio_padrao_salary)\n",
    ")\n",
    "\n",
    "# Resultados\n",
    "print(f\" Age KS = {ks_stat_age:.4f}, p-value = {p_valor_age:.4f}\")\n",
    "print(f\" Salary  KS = {ks_stat_salary:.4f}, p-value = {p_valor_salary:.4f}\")"
   ]
  },
  {
   "cell_type": "code",
   "execution_count": 11,
   "id": "4888d15f",
   "metadata": {},
   "outputs": [],
   "source": [
    "data = data[['AGE', 'Salary (monthly)', 'Chronic Diseases', 'Nmr of children', 'Decision']]\n",
    "\n",
    "\n",
    "########## Log  vai aqui ################\n",
    "\n",
    "data = data[(data['AGE'] > 0) & (data['Salary (monthly)'] > 0)]  # evitar log(0)\n",
    "data['log_AGE'] = np.log(data['AGE'])\n",
    "data['log_SALARY'] = np.log(data['Salary (monthly)'])"
   ]
  },
  {
   "cell_type": "code",
   "execution_count": 12,
   "id": "ef15264b",
   "metadata": {},
   "outputs": [],
   "source": [
    "X = data[['log_AGE', 'log_SALARY', 'Chronic Diseases', 'Nmr of children']]\n",
    "y = data['Decision']\n",
    "\n",
    "# Separar os dados por classe\n",
    "class_labels = y.unique()\n",
    "class_data = {label: X[y == label] for label in class_labels}"
   ]
  },
  {
   "cell_type": "code",
   "execution_count": 13,
   "id": "dd44133a",
   "metadata": {},
   "outputs": [],
   "source": [
    "def estimate_parameters(class_df):\n",
    "    params = {}\n",
    "    # Para log_AGE e log_SALARY (contínuas): média e desvio padrão\n",
    "    for col in ['log_AGE', 'log_SALARY']:\n",
    "        mu = class_df[col].mean()\n",
    "        sigma = class_df[col].std()\n",
    "        params[col] = (mu, sigma)\n",
    "    \n",
    "    # Para variáveis discretas: probabilidade empírica\n",
    "    for col in ['Chronic Diseases', 'Nmr of children']:\n",
    "        freqs = class_df[col].value_counts(normalize=True).to_dict()\n",
    "        params[col] = freqs\n",
    "\n",
    "    return params\n",
    "\n",
    "params_per_class = {label: estimate_parameters(df) for label, df in class_data.items()}\n",
    "\n"
   ]
  },
  {
   "cell_type": "code",
   "execution_count": 14,
   "id": "3c4fb974",
   "metadata": {},
   "outputs": [],
   "source": [
    "#  Prior de cada classe\n",
    "priors = {label: len(class_data[label]) / len(X) for label in class_labels}"
   ]
  },
  {
   "cell_type": "code",
   "execution_count": null,
   "id": "a305a444",
   "metadata": {},
   "outputs": [],
   "source": [
    "\n",
    "# Função de densidade da log-normal\n",
    "def lognorm_pdf(x, mu, sigma):\n",
    "    if x <= 0 or sigma <= 0:\n",
    "        return 1e-12\n",
    "    return (1 / (x * sigma * sqrt(2 * pi))) * exp(-((log(x) - mu) ** 2) / (2 * sigma ** 2))\n",
    "\n",
    "# Como estamos a usar log(AGE) e log(SALARY), o log-normal ficaq normal diretamente:\n",
    "def normal_pdf(x, mu, sigma):\n",
    "    if sigma <= 0:\n",
    "        return 1e-12\n",
    "    return (1 / (sigma * sqrt(2 * pi))) * exp(-((x - mu) ** 2) / (2 * sigma ** 2))\n",
    "\n",
    "\n",
    "def predict_instance(instance):\n",
    "    posteriors = {}\n",
    "    for label in class_labels:\n",
    "        prob = log(priors[label])  # log para evitar underflow\n",
    "        params = params_per_class[label]\n",
    "\n",
    "        # Contínuas (log_AGE, log_SALARY)\n",
    "        for col in ['log_AGE', 'log_SALARY']:\n",
    "            mu, sigma = params[col]\n",
    "            likelihood = normal_pdf(instance[col], mu, sigma)\n",
    "            prob += log(likelihood + 1e-12)\n",
    "\n",
    "        # Discretas\n",
    "        for col in ['Chronic Diseases', 'Nmr of children']:\n",
    "            val = instance[col]\n",
    "            likelihood = params[col].get(val, 1e-6)  # Laplace smoothing\n",
    "            prob += log(likelihood)\n",
    "\n",
    "        posteriors[label] = prob\n",
    "    return max(posteriors, key=posteriors.get)\n",
    "\n"
   ]
  },
  {
   "cell_type": "code",
   "execution_count": null,
   "id": "bb0b4fb5",
   "metadata": {},
   "outputs": [
    {
     "name": "stdout",
     "output_type": "stream",
     "text": [
      "Correct predictions: 498/600\n",
      "Accuracy: 83.00%\n"
     ]
    }
   ],
   "source": [
    "\n",
    "preds = X.apply(predict_instance, axis=1)\n",
    "\n",
    "\n",
    "data['PredictedDecision'] = preds.values\n",
    "\n",
    "\n",
    "correct = (preds == y).sum()\n",
    "accuracy_bayesian = correct / len(y)\n",
    "\n",
    "print(f\"Correct predictions: {correct}/{len(y)}\")\n",
    "print(f\"Accuracy: {accuracy_bayesian * 100:.2f}%\")\n",
    "\n",
    "\n",
    "# errors = data[data['PredictedDecision'] != data['Decision']]\n",
    "# print(errors)\n",
    "\n"
   ]
  },
  {
   "cell_type": "code",
   "execution_count": 17,
   "id": "b7f56f64",
   "metadata": {},
   "outputs": [
    {
     "name": "stdout",
     "output_type": "stream",
     "text": [
      "Life ensurance score point method accuracy (76.00%) < Bayesian Inference method accuracy (83.00%).\n"
     ]
    }
   ],
   "source": [
    "print(f'''Life ensurance score point method accuracy ({accuracy_companhia / len(result) * 100:.2f}%) < Bayesian Inference method accuracy ({accuracy_bayesian * 100:.2f}%).''')"
   ]
  }
 ],
 "metadata": {
  "kernelspec": {
   "display_name": "Python 3",
   "language": "python",
   "name": "python3"
  },
  "language_info": {
   "codemirror_mode": {
    "name": "ipython",
    "version": 3
   },
   "file_extension": ".py",
   "mimetype": "text/x-python",
   "name": "python",
   "nbconvert_exporter": "python",
   "pygments_lexer": "ipython3",
   "version": "3.9.13"
  }
 },
 "nbformat": 4,
 "nbformat_minor": 5
}
