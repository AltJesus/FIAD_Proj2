{
 "cells": [
  {
   "cell_type": "code",
   "execution_count": 86,
   "id": "47907b35",
   "metadata": {},
   "outputs": [],
   "source": [
    "import pandas as pd\n",
    "import matplotlib.pyplot as plt\n",
    "from matplotlib.colors import LogNorm\n",
    "from sklearn import mixture\n",
    "import numpy as np\n",
    "from scipy.stats import norm"
   ]
  },
  {
   "cell_type": "code",
   "execution_count": 87,
   "id": "ab8d7f90",
   "metadata": {},
   "outputs": [
    {
     "data": {
      "text/plain": [
       "'data = pd.read_csv(\\'teste.txt\\', header = None, sep= \\'\\\\s+\\')\\ndata.columns = [\\'age\\', \\'income\\', \\'student\\', \\'credit\\', \\'Decision\\']\\n\\n# Extracting the features and target variable\\nX = data.drop(columns=[\"Decision\"])\\ny = data[\\'Decision\\']\\n\\n# Separate the discrete and continuous features\\ndiscrete_features = [\\'age\\', \\'income\\', \\'student\\', \\'credit\\']\\ncontinuous_features = []'"
      ]
     },
     "execution_count": 87,
     "metadata": {},
     "output_type": "execute_result"
    }
   ],
   "source": [
    "data = pd.read_csv('lifeInsurance.txt', header = None, sep= '\\s+')\n",
    "data.columns = ['Gender', 'Age', 'MaritalStatus', 'NumberOfChildren', 'PhysicalStatus', 'ChronicDiseases', 'MonthlySalary', 'Decision']\n",
    "\n",
    "# Extracting the features and target variable\n",
    "X = data.drop(columns=[\"Decision\"])\n",
    "y = data['Decision']\n",
    "\n",
    "# Separate the discrete and continuous features\n",
    "discrete_features = ['Gender', 'MaritalStatus', 'NumberOfChildren', 'PhysicalStatus', 'ChronicDiseases']\n",
    "continuous_features = ['Age', 'MonthlySalary']\n",
    "\n",
    "# teste.txt example\n",
    "'''data = pd.read_csv('teste.txt', header = None, sep= '\\s+')\n",
    "data.columns = ['age', 'income', 'student', 'credit', 'Decision']\n",
    "\n",
    "# Extracting the features and target variable\n",
    "X = data.drop(columns=[\"Decision\"])\n",
    "y = data['Decision']\n",
    "\n",
    "# Separate the discrete and continuous features\n",
    "discrete_features = ['age', 'income', 'student', 'credit']\n",
    "continuous_features = []'''"
   ]
  },
  {
   "cell_type": "code",
   "execution_count": 88,
   "id": "48687b06",
   "metadata": {},
   "outputs": [
    {
     "name": "stdout",
     "output_type": "stream",
     "text": [
      "Prior probabilities:\n",
      "  P(0.0) = 0.6783 %\n",
      "  P(1.0) = 0.3217 %\n"
     ]
    }
   ],
   "source": [
    "# Prior probabilities\n",
    "def prior_probabilities(y):\n",
    "    total = y.shape[0]\n",
    "    probabilities = {}\n",
    "\n",
    "    for value in y.unique():\n",
    "        probabilities[value] = y[y == value].shape[0] / total\n",
    "\n",
    "    return probabilities\n",
    "\n",
    "prior_prob = prior_probabilities(y)\n",
    "print('Prior probabilities:')\n",
    "for p, value in prior_prob.items():\n",
    "    print(f'  P({p}) = {value:.4f} %')"
   ]
  },
  {
   "cell_type": "code",
   "execution_count": 89,
   "id": "4ebc28bc",
   "metadata": {},
   "outputs": [
    {
     "name": "stdout",
     "output_type": "stream",
     "text": [
      "Conditional probabilities for discrete features:\n",
      "  Feature: Gender\n",
      "    Value: 0.0\n",
      "      Decision: 0.0, Probability: 0.8747\n",
      "      Decision: 1.0, Probability: 0.8238\n",
      "    Value: 1.0\n",
      "      Decision: 0.0, Probability: 0.1253\n",
      "      Decision: 1.0, Probability: 0.1762\n",
      "\n",
      "  Feature: MaritalStatus\n",
      "    Value: 1.0\n",
      "      Decision: 0.0, Probability: 0.4865\n",
      "      Decision: 1.0, Probability: 0.6425\n",
      "    Value: 0.0\n",
      "      Decision: 0.0, Probability: 0.5135\n",
      "      Decision: 1.0, Probability: 0.3575\n",
      "\n",
      "  Feature: NumberOfChildren\n",
      "    Value: 1.0\n",
      "      Decision: 0.0, Probability: 0.2776\n",
      "      Decision: 1.0, Probability: 0.2021\n",
      "    Value: 3.0\n",
      "      Decision: 0.0, Probability: 0.1990\n",
      "      Decision: 1.0, Probability: 0.3679\n",
      "    Value: 2.0\n",
      "      Decision: 0.0, Probability: 0.2236\n",
      "      Decision: 1.0, Probability: 0.2798\n",
      "    Value: 0.0\n",
      "      Decision: 0.0, Probability: 0.2998\n",
      "      Decision: 1.0, Probability: 0.1503\n",
      "\n",
      "  Feature: PhysicalStatus\n",
      "    Value: 1.0\n",
      "      Decision: 0.0, Probability: 0.5356\n",
      "      Decision: 1.0, Probability: 0.5130\n",
      "    Value: 2.0\n",
      "      Decision: 0.0, Probability: 0.2654\n",
      "      Decision: 1.0, Probability: 0.0570\n",
      "    Value: 0.0\n",
      "      Decision: 0.0, Probability: 0.1990\n",
      "      Decision: 1.0, Probability: 0.4301\n",
      "\n",
      "  Feature: ChronicDiseases\n",
      "    Value: 0.0\n",
      "      Decision: 0.0, Probability: 0.6265\n",
      "      Decision: 1.0, Probability: 0.2021\n",
      "    Value: 1.0\n",
      "      Decision: 0.0, Probability: 0.3243\n",
      "      Decision: 1.0, Probability: 0.6943\n",
      "    Value: 2.0\n",
      "      Decision: 0.0, Probability: 0.0491\n",
      "      Decision: 1.0, Probability: 0.1036\n",
      "\n"
     ]
    }
   ],
   "source": [
    "def likelihood_discrete(prob_discrete, X, y, instance):\n",
    "    likelihoods = {}\n",
    "\n",
    "    for decision in y.unique():\n",
    "        likelihoods[decision] = 1\n",
    "\n",
    "        for feature in discrete_features:\n",
    "            value = instance[feature]\n",
    "            likelihoods[decision] *= prob_discrete[feature][value][decision]\n",
    "\n",
    "    return likelihoods\n",
    "\n",
    "# Conditional probabilities for discrete features\n",
    "def conditional_probabilities_discrete(X, y):\n",
    "    probabilities = {}\n",
    "\n",
    "    for feature in discrete_features:\n",
    "        probabilities[feature] = {}\n",
    "\n",
    "        for value in X[feature].unique():\n",
    "            probabilities[feature][value] = {}\n",
    "\n",
    "            for decision in y.unique():\n",
    "                subset = X[(X[feature] == value) & (y == decision)]\n",
    "\n",
    "                num_samples = subset.shape[0]\n",
    "                num_decision_samples = y[y == decision].shape[0]\n",
    "\n",
    "                probabilities[feature][value][decision] = num_samples / num_decision_samples if num_decision_samples > 0 else 0\n",
    "\n",
    "    return probabilities\n",
    "\n",
    "prob_discrete = conditional_probabilities_discrete(X, y)\n",
    "\n",
    "print('Conditional probabilities for discrete features:')\n",
    "\n",
    "for feature, values in prob_discrete.items():\n",
    "    print(f\"  Feature: {feature}\")\n",
    "    for value, decisions in values.items():\n",
    "        print(f\"    Value: {value}\")\n",
    "        for decision, prob in decisions.items():\n",
    "            print(f\"      Decision: {decision}, Probability: {prob:.4f}\")\n",
    "    print()"
   ]
  },
  {
   "cell_type": "code",
   "execution_count": 90,
   "id": "e9eb0c1a",
   "metadata": {},
   "outputs": [
    {
     "name": "stdout",
     "output_type": "stream",
     "text": [
      "Mean and standard deviation for continuous features:\n",
      "  Feature: Age\n",
      "    Decision: 0.0, Mean: 57.8256, Variance: 20.8255\n",
      "    Decision: 1.0, Mean: 70.8497, Variance: 20.9822\n",
      "\n",
      "  Feature: MonthlySalary\n",
      "    Decision: 0.0, Mean: 2752.8421, Variance: 686.7423\n",
      "    Decision: 1.0, Mean: 2284.9327, Variance: 584.9082\n",
      "\n"
     ]
    }
   ],
   "source": [
    "# Conditional probabilities for continuous features\n",
    "def conditional_probabilities_continuous(prob_continuous, X, y, instance):\n",
    "    probabilities = {}\n",
    "\n",
    "    for feature in continuous_features:\n",
    "        probabilities[feature] = {}\n",
    "\n",
    "        for decision in y.unique():\n",
    "            mean, std = prob_continuous[feature][decision]\n",
    "            value = instance[feature]\n",
    "\n",
    "            # Calculate the probability using the normal distribution\n",
    "            prob = norm.pdf(value, loc=mean, scale=std)\n",
    "            probabilities[feature][decision] = prob\n",
    "\n",
    "    return probabilities\n",
    "\n",
    "def mean_std_continuous(X, y):\n",
    "    probabilities = {}\n",
    "\n",
    "    for feature in continuous_features:\n",
    "        probabilities[feature] = {}\n",
    "\n",
    "        for decision in y.unique():\n",
    "            subset = X[y == decision][feature]\n",
    "            mean = subset.mean()\n",
    "            std = subset.std()\n",
    "\n",
    "            probabilities[feature][decision] = (mean, std)\n",
    "\n",
    "    return probabilities\n",
    "\n",
    "print('Mean and standard deviation for continuous features:')\n",
    "prob_continuous = mean_std_continuous(X, y)\n",
    "for feature, decisions in prob_continuous.items():\n",
    "    print(f\"  Feature: {feature}\")\n",
    "    for decision, (mean, variance) in decisions.items():\n",
    "        print(f\"    Decision: {decision}, Mean: {mean:.4f}, Variance: {variance:.4f}\")\n",
    "    print()"
   ]
  },
  {
   "cell_type": "code",
   "execution_count": 91,
   "id": "17ea86fb",
   "metadata": {},
   "outputs": [
    {
     "name": "stdout",
     "output_type": "stream",
     "text": [
      "Likelihoods for the instance:\n",
      "  P(Decision=0.0 | Instance) = 0.0319\n",
      "  P(Decision=1.0 | Instance) = 0.0154\n",
      "\n",
      "Conditional probabilities for continuous features:\n",
      "  Feature: Age\n",
      "    Decision: 0.0, Probability: 0.0179\n",
      "    Decision: 1.0, Probability: 0.0116\n",
      "\n",
      "  Feature: MonthlySalary\n",
      "    Decision: 0.0, Probability: 0.0005\n",
      "    Decision: 1.0, Probability: 0.0003\n",
      "\n"
     ]
    }
   ],
   "source": [
    "instance = {\n",
    "    'Gender': 0,\n",
    "    'Age': 50,\n",
    "    'MaritalStatus': 1,\n",
    "    'NumberOfChildren': 2,\n",
    "    'PhysicalStatus': 1,\n",
    "    'ChronicDiseases': 0,\n",
    "    'MonthlySalary': 3000\n",
    "}\n",
    "'''instance = {\n",
    "    'age': 0,\n",
    "    'income': 1,\n",
    "    'student': 1,\n",
    "    'credit': 0\n",
    "}'''\n",
    "\n",
    "likelihoods_discrete = likelihood_discrete(prob_discrete, X, y, instance)\n",
    "print('Likelihoods for the instance:')\n",
    "for decision, prob in likelihoods_discrete.items():\n",
    "    print(f'  P(Decision={decision} | Instance) = {prob:.4f}')\n",
    "print()\n",
    "\n",
    "probabilities = conditional_probabilities_continuous(prob_continuous, X, y, instance)\n",
    "print('Conditional probabilities for continuous features:')\n",
    "for feature, decisions in probabilities.items():\n",
    "    print(f\"  Feature: {feature}\")\n",
    "    for decision, prob in decisions.items():\n",
    "        print(f\"    Decision: {decision}, Probability: {prob:.4f}\")\n",
    "    print()"
   ]
  },
  {
   "cell_type": "code",
   "execution_count": null,
   "id": "8c79a978",
   "metadata": {},
   "outputs": [],
   "source": [
    "# TODO\n",
    "# fazer multiplicação das probabilidades continuas\n",
    "# multiplicar com as discretas\n",
    "# e multiplicar com a probabilidade a priori"
   ]
  }
 ],
 "metadata": {
  "kernelspec": {
   "display_name": "Python 3",
   "language": "python",
   "name": "python3"
  },
  "language_info": {
   "codemirror_mode": {
    "name": "ipython",
    "version": 3
   },
   "file_extension": ".py",
   "mimetype": "text/x-python",
   "name": "python",
   "nbconvert_exporter": "python",
   "pygments_lexer": "ipython3",
   "version": "3.11.5"
  }
 },
 "nbformat": 4,
 "nbformat_minor": 5
}
